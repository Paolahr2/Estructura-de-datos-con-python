{
  "nbformat": 4,
  "nbformat_minor": 0,
  "metadata": {
    "colab": {
      "provenance": [],
      "authorship_tag": "ABX9TyMhY0mdHw573GCM6r76Ir5t",
      "include_colab_link": true
    },
    "kernelspec": {
      "name": "python3",
      "display_name": "Python 3"
    },
    "language_info": {
      "name": "python"
    }
  },
  "cells": [
    {
      "cell_type": "markdown",
      "metadata": {
        "id": "view-in-github",
        "colab_type": "text"
      },
      "source": [
        "<a href=\"https://colab.research.google.com/github/Paolahr2/Estructura-de-datos-con-python/blob/main/Estructuras.ipynb\" target=\"_parent\"><img src=\"https://colab.research.google.com/assets/colab-badge.svg\" alt=\"Open In Colab\"/></a>"
      ]
    },
    {
      "cell_type": "code",
      "execution_count": null,
      "metadata": {
        "colab": {
          "base_uri": "https://localhost:8080/"
        },
        "id": "gMrORfDekirM",
        "outputId": "67ca039f-7923-44c8-abfb-4e207bdaad40"
      },
      "outputs": [
        {
          "output_type": "stream",
          "name": "stdout",
          "text": [
            "[1, 2, 3]\n",
            "[20, True, 'Sou un texto dentro de la lista']\n",
            "True\n",
            "[50, True, 'Sou un texto dentro de la lista']\n"
          ]
        }
      ],
      "source": [
        "#listas\n",
        "\n",
        "lista = [1, 2, 3] #lista homogenea\n",
        "print(lista)\n",
        "\n",
        "lista2 = [20, True, \"Sou un texto dentro de la lista\"]\n",
        "print(lista2)\n",
        "\n",
        "print(lista2[1]) #imprime el contenido de la lista en la posicion 1 = True\n",
        "\n",
        "lista2[0] = 50\n",
        "print (lista2)"
      ]
    },
    {
      "cell_type": "code",
      "source": [
        "#Metodos de las listas\n",
        "\n",
        "lista_nueva = [1, 2, 3, 4, 5]\n",
        "lista_nueva.append(3) #agreaga el valor 3 en la ultima posicion de la lista\n",
        "print(lista_nueva)\n",
        "\n",
        "#metodo count\n",
        "print(lista_nueva.count(3)) #devuelve la cantidad de veces que se repite un valor dentro de la lista\n",
        "\n",
        "#metodo index\n",
        "print(lista_nueva.index(4)) #muestra la primera posicion\n",
        "\n",
        "\n",
        "#metodo remove\n",
        "#elimina la primera aparicion de un elemento dentro de la lista\n",
        "lista_nueva.remove(3)\n",
        "print(lista_nueva)\n"
      ],
      "metadata": {
        "colab": {
          "base_uri": "https://localhost:8080/"
        },
        "id": "GPz0VPgAln1_",
        "outputId": "3a4d8697-71e3-4950-cddf-8b39cd63cc64"
      },
      "execution_count": null,
      "outputs": [
        {
          "output_type": "stream",
          "name": "stdout",
          "text": [
            "[1, 2, 3, 4, 5, 3]\n",
            "2\n",
            "3\n",
            "[1, 2, 4, 5, 3]\n"
          ]
        }
      ]
    },
    {
      "cell_type": "code",
      "source": [
        "#Tuplas\n",
        "tupla = (1, 2, 3)#tupla homogenea\n",
        "print(tupla)\n",
        "print((1, ))\n",
        "\n",
        "\n",
        "tupla2 = (5, False, \"Soy un texto en una tupla\", True)\n",
        "print(tupla2)\n",
        "\n",
        "#acceder al contenido de una tupla\n",
        "print(tupla2[0])\n",
        "\n"
      ],
      "metadata": {
        "colab": {
          "base_uri": "https://localhost:8080/"
        },
        "id": "xsKXzUU_pqBC",
        "outputId": "3196392d-a3e9-4e1a-a111-e2c7bc0b1fd1"
      },
      "execution_count": null,
      "outputs": [
        {
          "output_type": "stream",
          "name": "stdout",
          "text": [
            "(1, 2, 3)\n",
            "(1,)\n",
            "(5, False, 'Soy un texto en una tupla', True)\n",
            "5\n"
          ]
        }
      ]
    },
    {
      "cell_type": "code",
      "source": [
        "#Metodo para las tuplas\n",
        "#count\n",
        "print(tupla2.count(False))\n",
        "\n",
        "\n",
        "#Metodo index\n",
        "print(tupla2.index(True))"
      ],
      "metadata": {
        "colab": {
          "base_uri": "https://localhost:8080/"
        },
        "id": "uM8Jm_6oqgLN",
        "outputId": "8399b97c-757a-404e-fe40-ced8110f9214"
      },
      "execution_count": null,
      "outputs": [
        {
          "output_type": "stream",
          "name": "stdout",
          "text": [
            "1\n",
            "3\n"
          ]
        }
      ]
    },
    {
      "cell_type": "code",
      "source": [
        "#Conjuntos\n",
        "set( ) #construir conjuntos\n",
        "conjunto = set([1, 2, 3, 4, 4, 5])\n",
        "print(conjunto)"
      ],
      "metadata": {
        "colab": {
          "base_uri": "https://localhost:8080/"
        },
        "id": "YMbFyNoNq9ru",
        "outputId": "5cb51e6b-f3a8-4e87-fd7b-b9b2549a3c58"
      },
      "execution_count": null,
      "outputs": [
        {
          "output_type": "stream",
          "name": "stdout",
          "text": [
            "{1, 2, 3, 4, 5}\n"
          ]
        }
      ]
    }
  ]
}